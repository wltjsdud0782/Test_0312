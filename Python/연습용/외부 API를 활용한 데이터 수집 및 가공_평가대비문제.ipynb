{
 "cells": [
  {
   "cell_type": "markdown",
   "metadata": {},
   "source": [
    "### 외부 API를 활용한 데이터 수집 및 가공 평가"
   ]
  },
  {
   "cell_type": "markdown",
   "metadata": {},
   "source": [
    "##### 1. 키보드로 두 수를 입력받아 큰 수부터 출력하는 프로그램을 작성하시요. 단, 입력받는 두 수는 중복이 없다고 가정한다."
   ]
  },
  {
   "cell_type": "code",
   "execution_count": 318,
   "metadata": {},
   "outputs": [
    {
     "name": "stdout",
     "output_type": "stream",
     "text": [
      "5\n",
      "1\n"
     ]
    }
   ],
   "source": [
    "# 1번 문제 답안 작성\n",
    "num1 = input('첫번째 수를 입력하세요.')\n",
    "num2 = input('두번째 수를 입력하세요.')\n",
    "if num1 > num2 :\n",
    "    print(num1)\n",
    "    print(num2)\n",
    "else :\n",
    "    print(num2)\n",
    "    print(num1)"
   ]
  },
  {
   "cell_type": "markdown",
   "metadata": {},
   "source": [
    "##### 2. 키보드로 세 수를 입력받고,입력받은 세 수를 리스트에 저장하시오.<br> 그 후 리스트에 저장된 수 중 가장 큰 수와 가장 작은 수의 차를 출력하시오. (10점)"
   ]
  },
  {
   "cell_type": "code",
   "execution_count": 319,
   "metadata": {},
   "outputs": [
    {
     "name": "stdout",
     "output_type": "stream",
     "text": [
      "8\n"
     ]
    }
   ],
   "source": [
    "# 2번 문제 답안 작성\n",
    "list1 = []\n",
    "for i in range(0,3) :\n",
    "    list1.append(int(input(f'{i+1}번째 수를 입력하세요.')))\n",
    "result = max(list1) - min(list1)\n",
    "print(result)"
   ]
  },
  {
   "cell_type": "markdown",
   "metadata": {},
   "source": [
    "##### 3. 매개변수로 두 정수를 받아, 두 정수 사이의(두 정수 포함) 모든 정수를 갖는 리스트를 리턴하는 함수를 구현하시오."
   ]
  },
  {
   "cell_type": "code",
   "execution_count": 320,
   "metadata": {},
   "outputs": [],
   "source": [
    "# 3번 문제 답안 작성\n",
    "def returnList(num3, num4) :\n",
    "    list2 = []\n",
    "\n",
    "    if num3 < num4 :\n",
    "        for i in range(num3, num4+1) :\n",
    "            list2.append(i)\n",
    "    else :\n",
    "        for i in range(num4, num3+1) :\n",
    "            list2.append(i)\n",
    "\n",
    "    return list2"
   ]
  },
  {
   "cell_type": "markdown",
   "metadata": {},
   "source": [
    "##### 다음 딕셔너리 데이터를 참고하여 아래 문제들을 해결하시오."
   ]
  },
  {
   "cell_type": "code",
   "execution_count": 647,
   "metadata": {},
   "outputs": [],
   "source": [
    "# 2012년 광역시별 25세 미만 연령별 인구 데이터\n",
    "population = {\n",
    "    '행정기관' : ['서울특별시', '부산광역시', '대구광역시', '인천광역시', '울산광역시'],\n",
    "    '0~4세' : [214651, 68006, 53515, 69453, 29835],\n",
    "    '5~9세' : [210833, 68704, 58332, 68555, 29331],\n",
    "    '10~14세' : [269171, 94802, 91268, 86574, 29035],\n",
    "    '15~19세' : [335828, 124564, 101110, 106435, 49119],\n",
    "    '20~24세' : [343797, 125907, 96078, 102297, 43937]\n",
    "}"
   ]
  },
  {
   "cell_type": "markdown",
   "metadata": {},
   "source": [
    "##### 4. 2012년 기준 대한민국에서 25세 미만의 인구수 중 인구가 가장 많은 연령대를 출력하시오."
   ]
  },
  {
   "cell_type": "code",
   "execution_count": 388,
   "metadata": {},
   "outputs": [
    {
     "name": "stdout",
     "output_type": "stream",
     "text": [
      "15~19세\n"
     ]
    }
   ],
   "source": [
    "# 4번 문제 답안 작성\n",
    "keyList = []\n",
    "valueList = []\n",
    "\n",
    "for key in population:\n",
    "    if key != '행정기관':\n",
    "        valueList.append(sum(population[key][:5]))\n",
    "        keyList.append(key)\n",
    "\n",
    "print(keyList[valueList.index(max(valueList))])"
   ]
  },
  {
   "cell_type": "markdown",
   "metadata": {},
   "source": [
    "##### 5. '총 인구수' 라는 키를 추가하고, 해당 키에 1세부터 24세까지의 인구 합을 데이터로 하여 population 데이터에 추가하시오."
   ]
  },
  {
   "cell_type": "code",
   "execution_count": 653,
   "metadata": {},
   "outputs": [
    {
     "name": "stdout",
     "output_type": "stream",
     "text": [
      "{'행정기관': ['서울특별시', '부산광역시', '대구광역시', '인천광역시', '울산광역시'], '0~4세': [214651, 68006, 53515, 69453, 29835], '5~9세': [210833, 68704, 58332, 68555, 29331], '10~14세': [269171, 94802, 91268, 86574, 29035], '15~19세': [335828, 124564, 101110, 106435, 49119], '20~24세': [343797, 125907, 96078, 102297, 43937], '총 인구수': [1374280, 481983, 400303, 433314, 181257]}\n"
     ]
    }
   ],
   "source": [
    "# 5번 문제 답안 작성\n",
    "result_data = []\n",
    "each_list = []\n",
    "\n",
    "# 데이터를 넣는 횟수 반복\n",
    "for i in range(len(population['행정기관'])): \n",
    "    each_list = []\n",
    "    # sum_data = 0\n",
    "    # 데이터를 더하는 횟수 반복\n",
    "    for key in population:\n",
    "        if key != '행정기관':\n",
    "            #sum_data = sum_data + population[col][i]\n",
    "            each_list.append(population[key][i])\n",
    "    # result_data.append(sum_data)\n",
    "    result_data.append(sum(each_list))\n",
    "\n",
    "population['총 인구수'] = result_data\n",
    "\n",
    "print(population)\n",
    "\n",
    "# result_data.clear()\n",
    "# del population['총 인구수']"
   ]
  }
 ],
 "metadata": {
  "kernelspec": {
   "display_name": "Python 3",
   "language": "python",
   "name": "python3"
  },
  "language_info": {
   "codemirror_mode": {
    "name": "ipython",
    "version": 3
   },
   "file_extension": ".py",
   "mimetype": "text/x-python",
   "name": "python",
   "nbconvert_exporter": "python",
   "pygments_lexer": "ipython3",
   "version": "3.12.2"
  }
 },
 "nbformat": 4,
 "nbformat_minor": 2
}
